{
  "nbformat": 4,
  "nbformat_minor": 0,
  "metadata": {
    "colab": {
      "name": "Visualizing_ELMo_capture_Semantic_info.ipynb",
      "version": "0.3.2",
      "provenance": [],
      "collapsed_sections": []
    },
    "kernelspec": {
      "name": "python3",
      "display_name": "Python 3"
    },
    "accelerator": "GPU"
  },
  "cells": [
    {
      "cell_type": "code",
      "metadata": {
        "id": "2OgxoEOSkidx",
        "colab_type": "code",
        "colab": {}
      },
      "source": [
        "%matplotlib inline\n",
        "import tensorflow as tf\n",
        "import tensorflow_hub as hub\n",
        "import matplotlib.pyplot as plt\n",
        "import numpy as np\n",
        "from sklearn.decomposition import PCA\n",
        "\n"
      ],
      "execution_count": 0,
      "outputs": []
    },
    {
      "cell_type": "markdown",
      "metadata": {
        "id": "1rUhPdIBkyhC",
        "colab_type": "text"
      },
      "source": [
        "### Loading the Elmo Model\n",
        "\n",
        "\n",
        "The model trained on One Billion World Language Model Benchmark (http://www.statmt.org/lm-benchmark/) as been exposed on Tensorflow Hub. This can be loaded as :"
      ]
    },
    {
      "cell_type": "code",
      "metadata": {
        "id": "As0IOhmqkspZ",
        "colab_type": "code",
        "colab": {}
      },
      "source": [
        "elmo = hub.Module(\"https://tfhub.dev/google/elmo/2\", trainable=True)"
      ],
      "execution_count": 0,
      "outputs": []
    },
    {
      "cell_type": "code",
      "metadata": {
        "id": "ITf7NKplgxaE",
        "colab_type": "code",
        "colab": {}
      },
      "source": [
        "tokens_input = [[\"I\", \"love\", \"this\", \"beautiful\",\"work\", \"by\", \"Vincent\", \"Van\", \"Gogh\",\"\"],\n",
        "                [\"Tiya\", \"works\", \"really\", \"hard\", \"for\", \"exams\", \"every\", \"day\",\"\",\"\"],\n",
        "                [\"My\", \"sister\", \"likes\", \"working\", \"at\", \"Google\",\"\",\"\",\"\",\"\"],\n",
        "                [\"This\", \"amazing\", \"work\", \"was\", \"done\", \"in\", \"the\", \"early\", \"nineteenth\", \"century\"],\n",
        "                [\"Hundreds\", \"of\", \"people\", \"work\", \"in\", \"this\", \"building\",\"\",\"\",\"\"]]\n",
        "\n",
        "tokens_length = [9,8,6,10,7]\n",
        "embeddings = elmo(inputs={\"tokens\": tokens_input,\"sequence_len\": tokens_length},\n",
        "                  signature=\"tokens\",\n",
        "                  as_dict=True)[\"elmo\"]"
      ],
      "execution_count": 0,
      "outputs": []
    },
    {
      "cell_type": "code",
      "metadata": {
        "id": "tmtC9muuobVf",
        "colab_type": "code",
        "colab": {}
      },
      "source": [
        "layer1 = elmo(inputs={\"tokens\": tokens_input,\"sequence_len\": tokens_length},\n",
        "                  signature=\"tokens\",\n",
        "                  as_dict=True)[\"lstm_outputs1\"]\n",
        "\n",
        "layer2 = elmo(inputs={\"tokens\": tokens_input,\"sequence_len\": tokens_length},\n",
        "                  signature=\"tokens\",\n",
        "                  as_dict=True)[\"lstm_outputs2\"]"
      ],
      "execution_count": 0,
      "outputs": []
    },
    {
      "cell_type": "code",
      "metadata": {
        "id": "m3DSzHr_mADl",
        "colab_type": "code",
        "colab": {}
      },
      "source": [
        "init = tf.global_variables_initializer()\n",
        "sess = tf.Session()\n",
        "sess.run(init)\n"
      ],
      "execution_count": 0,
      "outputs": []
    },
    {
      "cell_type": "code",
      "metadata": {
        "id": "WdwngS4IVn_n",
        "colab_type": "code",
        "colab": {}
      },
      "source": [
        "def get_elmo_vectors(tokens_input, layer):\n",
        "  final_list = []\n",
        "  for i in range(len(tokens_input)):\n",
        "    \n",
        "    X= []\n",
        "    l1 = []\n",
        "    \n",
        "    for j in range(len(tokens_input[i])):\n",
        "      \n",
        "      if tokens_input[i][j]=='':\n",
        "        continue\n",
        "        \n",
        "      l1.append(tokens_input[i][j])\n",
        "      X.append(sess.run(layer[i][j]))\n",
        "      \n",
        "    final_list.append(l1)\n",
        "    X = np.array(X)\n",
        "    print(X.shape)\n",
        "    if i == 0 :\n",
        "      allArrays = X\n",
        "      continue\n",
        "    allArrays = np.concatenate((allArrays, X)) \n",
        "    \n",
        "  return allArrays, final_list\n",
        "  "
      ],
      "execution_count": 0,
      "outputs": []
    },
    {
      "cell_type": "code",
      "metadata": {
        "id": "5k72V-dOXiZ0",
        "colab_type": "code",
        "outputId": "271d2a0b-445a-4567-d2ee-ae78e6c56fbb",
        "colab": {
          "base_uri": "https://localhost:8080/",
          "height": 100
        }
      },
      "source": [
        "out_arrays, out_token_list = get_elmo_vectors(tokens_input, embeddings)"
      ],
      "execution_count": 0,
      "outputs": [
        {
          "output_type": "stream",
          "text": [
            "(9, 1024)\n",
            "(8, 1024)\n",
            "(6, 1024)\n",
            "(10, 1024)\n",
            "(7, 1024)\n"
          ],
          "name": "stdout"
        }
      ]
    },
    {
      "cell_type": "code",
      "metadata": {
        "id": "Cj-OLYrXyz0h",
        "colab_type": "code",
        "colab": {}
      },
      "source": [
        "def dim_reduction(X, n):\n",
        "    pca = PCA(n_components=n)\n",
        "    print(\"size of X: {}\".format(X.shape))\n",
        "    results = pca.fit_transform(X)\n",
        "    print(\"size of reduced X: {}\".format(results.shape))\n",
        "\n",
        "    for i, ratio in enumerate(pca.explained_variance_ratio_):\n",
        "        print(\"Variance retained ratio of PCA-{}: {}\".format(i+1, ratio))\n",
        "\n",
        "    return results"
      ],
      "execution_count": 0,
      "outputs": []
    },
    {
      "cell_type": "code",
      "metadata": {
        "id": "MwZABsdQX-MB",
        "colab_type": "code",
        "outputId": "db94fdcc-41cc-4cfd-ec60-b72bc648c3b8",
        "colab": {
          "base_uri": "https://localhost:8080/",
          "height": 84
        }
      },
      "source": [
        "out_arrays_reduce = dim_reduction(X=out_arrays, n=2)"
      ],
      "execution_count": 0,
      "outputs": [
        {
          "output_type": "stream",
          "text": [
            "size of X: (40, 1024)\n",
            "size of reduced X: (40, 2)\n",
            "Variance retained ratio of PCA-1: 0.0967249795794487\n",
            "Variance retained ratio of PCA-2: 0.07201884686946869\n"
          ],
          "name": "stdout"
        }
      ]
    },
    {
      "cell_type": "code",
      "metadata": {
        "id": "aCWzdyFSFEg3",
        "colab_type": "code",
        "colab": {}
      },
      "source": [
        "def pick_color(i):\n",
        "    if i == 0:\n",
        "        color = 'ro'\n",
        "    elif i == 1:\n",
        "        color = 'bo'\n",
        "    elif i == 2:\n",
        "        color = 'yo'\n",
        "    elif i == 3:\n",
        "        color = 'go'\n",
        "    else:\n",
        "        color = 'co'\n",
        "    return color"
      ],
      "execution_count": 0,
      "outputs": []
    },
    {
      "cell_type": "code",
      "metadata": {
        "id": "YmEqQq_WGLi1",
        "colab_type": "code",
        "colab": {}
      },
      "source": [
        "def plot(word, token_list, reduced_X):\n",
        "    import matplotlib.pyplot as plt\n",
        "    fig, ax = plt.subplots()\n",
        "\n",
        "    # plot ELMo vectors\n",
        "    i = 0\n",
        "    for j, token in enumerate(token_list):\n",
        "        color = pick_color(j)\n",
        "        for _, w in enumerate(token):\n",
        "\n",
        "            # only plot the word of interest\n",
        "            if w.lower() in [word, word + 's', word + 'ing', word + 'ed']:\n",
        "                ax.plot(reduced_X[i, 0], reduced_X[i, 1], color)\n",
        "            i += 1\n",
        "\n",
        "    tokens = []\n",
        "    for token in token_list:\n",
        "        tokens += token\n",
        "\n",
        "    # annotate point\n",
        "    k = 0\n",
        "    for i, token in enumerate(tokens):\n",
        "        if token.lower() in [word, word + 's', word + 'ing', word + 'ed']:\n",
        "            text = ' '.join(token_list[k])\n",
        "\n",
        "            # bold the word of interest in the sentence\n",
        "            text = text.replace(token, r\"$\\bf{\" + token + \"}$\")\n",
        "\n",
        "            plt.annotate(text, xy=(reduced_X[i, 0], reduced_X[i, 1]))\n",
        "            k += 1\n",
        "\n",
        "    \n",
        "    ax.set_xlabel(\"PCA 1\")\n",
        "    ax.set_ylabel(\"PCA 2\")"
      ],
      "execution_count": 0,
      "outputs": []
    },
    {
      "cell_type": "code",
      "metadata": {
        "id": "-q56BJtYHGd3",
        "colab_type": "code",
        "outputId": "83843c90-8764-403c-8486-bb9cb3a99e62",
        "colab": {
          "base_uri": "https://localhost:8080/",
          "height": 283
        }
      },
      "source": [
        "plot(\"work\", out_token_list, out_arrays_reduce)"
      ],
      "execution_count": 0,
      "outputs": [
        {
          "output_type": "display_data",
          "data": {
            "image/png": "[encoded data removed]",
            "text/plain": [
              "<Figure size 432x288 with 1 Axes>"
            ]
          },
          "metadata": {
            "tags": []
          }
        }
      ]
    },
    {
      "cell_type": "markdown",
      "metadata": {
        "id": "i1sHH7l06Lid",
        "colab_type": "text"
      },
      "source": [
        "### Checking out word representations from LSTM layer 1 "
      ]
    },
    {
      "cell_type": "code",
      "metadata": {
        "id": "XwKwn_KjYLzp",
        "colab_type": "code",
        "outputId": "63a8632c-7457-4b6c-d360-d027a0171d60",
        "colab": {
          "base_uri": "https://localhost:8080/",
          "height": 433
        }
      },
      "source": [
        "out_arrays, out_token_list = get_elmo_vectors(tokens_input, layer1)\n",
        "out_arrays_reduce = dim_reduction(X=out_arrays, n=2)\n",
        "plot(\"work\", out_token_list, out_arrays_reduce)"
      ],
      "execution_count": 0,
      "outputs": [
        {
          "output_type": "stream",
          "text": [
            "(9, 1024)\n",
            "(8, 1024)\n",
            "(6, 1024)\n",
            "(10, 1024)\n",
            "(7, 1024)\n",
            "size of X: (40, 1024)\n",
            "size of reduced X: (40, 2)\n",
            "Variance retained ratio of PCA-1: 0.10259900987148285\n",
            "Variance retained ratio of PCA-2: 0.06777151674032211\n"
          ],
          "name": "stdout"
        },
        {
          "output_type": "display_data",
          "data": {
            "image/png": "[encoded data removed]",
            "text/plain": [
              "<Figure size 432x288 with 1 Axes>"
            ]
          },
          "metadata": {
            "tags": []
          }
        }
      ]
    },
    {
      "cell_type": "markdown",
      "metadata": {
        "id": "8gW2gpPn6TUM",
        "colab_type": "text"
      },
      "source": [
        "### Checking out word representations from LSTM layer 2"
      ]
    },
    {
      "cell_type": "code",
      "metadata": {
        "id": "6oWkwQ8qaZcj",
        "colab_type": "code",
        "outputId": "22657dd0-95ec-42e5-ce8c-325bfd2beec5",
        "colab": {
          "base_uri": "https://localhost:8080/",
          "height": 433
        }
      },
      "source": [
        "out_arrays, out_token_list = get_elmo_vectors(tokens_input, layer2)\n",
        "out_arrays_reduce = dim_reduction(X=out_arrays, n=2)\n",
        "plot(\"work\", out_token_list, out_arrays_reduce)"
      ],
      "execution_count": 0,
      "outputs": [
        {
          "output_type": "stream",
          "text": [
            "(9, 1024)\n",
            "(8, 1024)\n",
            "(6, 1024)\n",
            "(10, 1024)\n",
            "(7, 1024)\n",
            "size of X: (40, 1024)\n",
            "size of reduced X: (40, 2)\n",
            "Variance retained ratio of PCA-1: 0.10060898214578629\n",
            "Variance retained ratio of PCA-2: 0.07767873257398605\n"
          ],
          "name": "stdout"
        },
        {
          "output_type": "display_data",
          "data": {
            "image/png": "[encoded data removed]",
            "text/plain": [
              "<Figure size 432x288 with 1 Axes>"
            ]
          },
          "metadata": {
            "tags": []
          }
        }
      ]
    }
  ]
}